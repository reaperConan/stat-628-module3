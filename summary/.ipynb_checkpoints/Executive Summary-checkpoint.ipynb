{
 "cells": [
  {
   "cell_type": "markdown",
   "metadata": {},
   "source": [
    "# Introduction\n",
    "\n",
    "Today, people get used to look up relevant information online before they visit somewhere. Yelp provides a good platform where people can submit reviews of businesses using a one to five star rating system. Business owners expect higher ratings to increase revenue, therefore advice for improvement based on existing reviews is needed. In our analysis, we use data-driven methods to generate actionable solutions to help improve ratings in Yelp. Moreover, we provide a web application to demonstrate our findings and personalize advice for every single business owner."
   ]
  },
  {
   "cell_type": "markdown",
   "metadata": {},
   "source": [
    "# Background\n",
    "\n",
    "Yelp releases open datasets (including three aspects: business, user and review) for our study. The business data includes location data, attributes, and categories. The user data includes the user's friend mapping and all the metadata associated with the user. The review data includes full review texts and the \"user_id\" that wrote the review and \"the business_id\" the review is written for. Considering that the dataset is huge, we focus on a subset of it. The selected dataset consists of 490 cinemas across 11 states in North America (3 in Canada, 8 in the US), 28747 reviews from 24359 users. To provide suggestions for the business owners, it's vital to find people's opinions towards their performance in key aspects. In our analysis, we filter out the valid reviews and then analyze the sentiment behind the reviews. "
   ]
  },
  {
   "cell_type": "markdown",
   "metadata": {},
   "source": [
    "# Data Processing"
   ]
  },
  {
   "cell_type": "markdown",
   "metadata": {},
   "source": [
    "## User Selection"
   ]
  },
  {
   "cell_type": "markdown",
   "metadata": {},
   "source": [
    "## Text Processing"
   ]
  },
  {
   "cell_type": "markdown",
   "metadata": {},
   "source": [
    "Next we process the reviews and tips in order to extract the key attributes later. Our goal in this part is to clean and split the words. Our work takes the following steps:\n",
    "* Change all letters into lower case;\n",
    "* Delete stop words;\n",
    "* Split the sentences;\n",
    "* Delete punctuation; \n",
    "* Turn the tense into the present tense;\n",
    "* Correct the spelling error."
   ]
  },
  {
   "cell_type": "markdown",
   "metadata": {},
   "source": [
    "## Word counting"
   ]
  },
  {
   "cell_type": "markdown",
   "metadata": {},
   "source": [
    "Then we count the words. Actually, the frequency of word occurance in the reviews and tips contains a lot of information. High-frequency noun can be utilized as indicator, such as seat, popcorn. High-frequency adjective with might contains sentiment, which helps us to analyze the sentiment in the review or tip, especially those adjective with high variance on different ratings. To count the words resonably, we take the following steps:\n",
    "* Count the words separately on the reviews with different ratings;\n",
    "* Put on weight to count according to the amount of complement in the review or tip (funny, useful, cool) and the time of the review or tip;\n",
    "* Count “should/would/not+adj” and “never+verb” as one word instead of two;\n",
    "* Scale the count for comparison."
   ]
  },
  {
   "cell_type": "markdown",
   "metadata": {},
   "source": [
    "## Extracting the key attributes\n",
    "So far, we've count the frequency of words appearing in the reviews and generated a list of the most frequent words. The list gives us an insight into what people look for and feel when they visit a cinema. We select important business attributes customers values the most from the list. We divide them into 6 aspects:\n",
    "* Price: the ticket price and the the cost of other goods sold in the cinema, etc.\n",
    "* Location: the location of the cinema and the important geographical elements nearby (hotels, restaurants and car parks), etc.\n",
    "* Facility: the quality of movie, screen, sound and seats, etc.\n",
    "* Environment: the wait time to buy tickets, the style of the cinema, etc.\n",
    "* Food and drinks: the concession stand, the food and drinks offered.\n",
    "* Services: the quality of service from staff, the online services, etc.\n",
    "* Promotion events: special offers for vip, free passes and discount, etc."
   ]
  },
  {
   "cell_type": "markdown",
   "metadata": {},
   "source": [
    "# Proposal\n",
    "To study people's attitudes towards the selected key words, we first find the segments where it appears, specifically, we extract the parts between the punctuations right before and after the words. We use a value called polarity ranging in \\[-1, 1\\] to to denote the sentiment. -1 is the most negative and 1 is the most positive. Written text can be broadly categorized into two types: facts and opinions. Opinions carry people's sentiments, appraisals and feelings toward the world. Python's Pattern library provides a lexicon of adjectives that occur frequently in product reviews, annotated with scores for sentiment polarity ([en_sentiment](https://github.com/clips/pattern/blob/master/pattern/text/en/en-sentiment.xml)). Important attributes in this lexicon are: \"pos\" - the part-of-speech tags; \"sense\" - the situation where the word is used; \"polarity\" - -1 being the most negative, 1 being the most positive; \"intensity\" - the effects on sentiment of modifier words (eg. very, little, ...). For a certain word appearing in the segment extracted, we take average value of the polarity values. If the word comes with a modifier word (eg. very), we multiply the polarity by the intensity of the modifier word. If the word comes with a negation (eg. never, not, ...), we multiply the polarity by -0.5 and divide it by the modifier word's intensity.  \n",
    "\n",
    "We then sum the polarity up to find the score for each aspect and get a rating chart like following:\n",
    "\n",
    "| id | name | price | location | facility | environment | food\\&drink | service |  promotion |\n",
    "| :-: |  :-: |   :-:   |    :-:   |    :-:   |    :-:    |    :-:    |    :-:   |    :-:   |\n",
    "| EQrPxeku4BfHMCSi8UASQ | Chandler Cinemas | 0.000 | 0.000 | 0.686 | 1.005 | 0.225 | -0.063 | 0.313 |\n",
    "|zRV7bzP_CfTg-_R9U-VsVg |   Visulite Theatre|0.009|0.8|9.596|5.817|6.180|3.115|0.000|\n",
    "|pDA8NJUwGl1IoLDeaVfo0Q|AMC Ridge Park Square Cinema 8|0.400|0.450|0.624|0.234|0.000|0.683|0.000|\n",
    "\n",
    "The performance of a business will be shown in a radar chart, for example:\n",
    "\n",
    "Based on the scores, we point out the first two biggest weaknesses and strengths. We gives suggestions like this: \"*Based on the customer reviews, you have to improve your facility, especially seats. You best strength is service, please hold on to it.*\""
   ]
  },
  {
   "cell_type": "markdown",
   "metadata": {},
   "source": [
    "# Strength and weakness"
   ]
  },
  {
   "cell_type": "markdown",
   "metadata": {},
   "source": [
    "## Strength\n",
    "\n",
    "## Weakness"
   ]
  },
  {
   "cell_type": "markdown",
   "metadata": {},
   "source": [
    "# Conclusion"
   ]
  },
  {
   "cell_type": "markdown",
   "metadata": {},
   "source": [
    "# Duties"
   ]
  },
  {
   "cell_type": "markdown",
   "metadata": {},
   "source": [
    "# References"
   ]
  }
 ],
 "metadata": {
  "kernelspec": {
   "display_name": "Python 3",
   "language": "python",
   "name": "python3"
  },
  "language_info": {
   "codemirror_mode": {
    "name": "ipython",
    "version": 3
   },
   "file_extension": ".py",
   "mimetype": "text/x-python",
   "name": "python",
   "nbconvert_exporter": "python",
   "pygments_lexer": "ipython3",
   "version": "3.7.4"
  }
 },
 "nbformat": 4,
 "nbformat_minor": 2
}
