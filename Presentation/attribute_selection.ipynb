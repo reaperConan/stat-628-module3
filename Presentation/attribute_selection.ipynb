{
 "cells": [
  {
   "cell_type": "code",
   "execution_count": 179,
   "metadata": {},
   "outputs": [],
   "source": [
    "import pandas as pd\n",
    "from textblob import TextBlob\n",
    "import mord\n",
    "from sklearn import linear_model, metrics, preprocessing\n",
    "from sklearn.model_selection import cross_val_score\n",
    "from sklearn.metrics import mean_absolute_error\n",
    "from sklearn.metrics import make_scorer\n",
    "import numpy as np"
   ]
  },
  {
   "cell_type": "code",
   "execution_count": 158,
   "metadata": {},
   "outputs": [],
   "source": [
    "rev = pd.read_csv(\"cinema_review.csv\")\n",
    "Y_star = rev['stars']\n",
    "rev_text = pd.Series(rev['text'])"
   ]
  },
  {
   "cell_type": "code",
   "execution_count": 18,
   "metadata": {},
   "outputs": [],
   "source": [
    "rev_depo = list()\n",
    "for r in rev_text:\n",
    "    rev_tb = TextBlob(r)\n",
    "    reviews = ' '.join(rev_tb.words.singularize())\n",
    "    rev_depo.append(reviews)"
   ]
  },
  {
   "cell_type": "code",
   "execution_count": 151,
   "metadata": {},
   "outputs": [],
   "source": [
    "attributes = open(\"nouns.txt\").read().split()\n",
    "designX = pd.DataFrame(columns=attributes)\n",
    "for attr in attributes:\n",
    "    tb=list()\n",
    "    for r in rev_depo:\n",
    "        temp = r.split()\n",
    "        indices = [i for i,x in enumerate(temp) if x == attr]\n",
    "        \n",
    "        if len(indices)==0: \n",
    "            tb.append(0)\n",
    "            continue\n",
    "        \n",
    "        temp_sum=0    \n",
    "        for index in indices:\n",
    "            if index < 5:\n",
    "                temp_sum+=TextBlob(' '.join(temp[0:index+6])).sentiment[0]\n",
    "            elif index > len(temp)-5:\n",
    "                temp_sum+=TextBlob(' '.join(temp[index-6:])).sentiment[0]\n",
    "            else:\n",
    "                temp_sum+=TextBlob(' '.join(temp[index-6:index+6])).sentiment[0]\n",
    "        temp_avg=temp_sum/len(indices)\n",
    "        tb.append(temp_avg)\n",
    "    designX[attr]=pd.Series(tb)"
   ]
  },
  {
   "cell_type": "code",
   "execution_count": 168,
   "metadata": {},
   "outputs": [],
   "source": [
    "le = preprocessing.LabelEncoder()\n",
    "le.fit(Y_star)\n",
    "Y_star = le.transform(Y_star)"
   ]
  },
  {
   "cell_type": "code",
   "execution_count": 193,
   "metadata": {},
   "outputs": [
    {
     "name": "stdout",
     "output_type": "stream",
     "text": [
      "[0 1 2 3 4]\n",
      "[0.940692   0.98898316 1.01521799 0.41129533 1.27842165 0.99500993\n",
      " 0.68370721 0.77701897 0.56525693 0.41805724 1.15998343 0.51321814\n",
      " 0.60904784 1.06503371 0.46132126 0.6257373  0.27032258 0.38899353\n",
      " 0.25523397 0.33513774 0.46637685 0.27923213 0.01918263 0.18197612\n",
      " 0.45591644 0.49790936 0.74631098 0.1085484  0.34768925 0.10539861\n",
      " 0.18283149 0.70064603 0.60659473]\n",
      "Mean Absolute Error of LogisticAT 0.8906492097923768\n"
     ]
    }
   ],
   "source": [
    "clf = mord.LogisticAT(alpha=100)\n",
    "clf.fit(designX, Y_star)\n",
    "print(clf.classes_)\n",
    "print(clf.coef_)\n",
    "print('Mean Absolute Error of LogisticAT %s' %\n",
    "      metrics.mean_absolute_error(clf.predict(designX), Y_star))"
   ]
  }
 ],
 "metadata": {
  "kernelspec": {
   "display_name": "Python 3",
   "language": "python",
   "name": "python3"
  },
  "language_info": {
   "codemirror_mode": {
    "name": "ipython",
    "version": 3
   },
   "file_extension": ".py",
   "mimetype": "text/x-python",
   "name": "python",
   "nbconvert_exporter": "python",
   "pygments_lexer": "ipython3",
   "version": "3.7.3"
  }
 },
 "nbformat": 4,
 "nbformat_minor": 2
}
